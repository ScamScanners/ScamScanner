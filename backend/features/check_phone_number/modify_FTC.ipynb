{
 "cells": [
  {
   "cell_type": "code",
   "execution_count": 1,
   "metadata": {},
   "outputs": [
    {
     "name": "stdout",
     "output_type": "stream",
     "text": [
      "            0\n",
      "0  3104210312\n",
      "1  7066866529\n",
      "2  7066866529\n",
      "3  9895891402\n",
      "4  9513970970\n"
     ]
    }
   ],
   "source": [
    "import os\n",
    "import glob\n",
    "import pandas as pd\n",
    "\n",
    "# Define the directory\n",
    "directory = \"/Users/shubhamshinde/Downloads/UCB_AI_hack2/backend/features/check_phone_number/data\"\n",
    "\n",
    "# Use glob to find all CSV files in the directory\n",
    "csv_files = glob.glob(os.path.join(directory, \"*.csv\"))\n",
    "\n",
    "# Initialize an empty list to store data frames\n",
    "data_frames = []\n",
    "\n",
    "# Read each CSV file, format the phone numbers, and append to the list of data frames\n",
    "for csv_file in csv_files:\n",
    "    try:\n",
    "        # Read the CSV file\n",
    "        df = pd.read_csv(csv_file)\n",
    "\n",
    "        # Ensure phone numbers are 10 digits\n",
    "        df[\"Company_Phone_Number\"] = (\n",
    "            df[\"Company_Phone_Number\"].astype(str).str.extract(\"(\\d{10})\")\n",
    "        )\n",
    "\n",
    "        # Append the data frame to the list\n",
    "        data_frames.append(df)\n",
    "    except Exception as e:\n",
    "        print(f\"Error reading {csv_file}: {e}\")\n",
    "\n",
    "# Concatenate all data frames\n",
    "combined_df = pd.concat(data_frames, ignore_index=True)\n",
    "\n",
    "# Display the first few rows of the cleaned phone numbers\n",
    "company_phone_number_df = (\n",
    "    combined_df[\"Company_Phone_Number\"].astype(str).str.extract(\"(\\d{10})\")\n",
    ")\n",
    "print(company_phone_number_df.head())\n",
    "\n",
    "# # Define the output file path\n",
    "# output_file = \"/Users/shubhamshinde/Downloads/UCB_AI_hack2/backend/features/check_phone_number/data/combined.csv\"\n",
    "\n",
    "# # Save the combined data frame to a new CSV file\n",
    "# combined_df.to_csv(\"output_file.csv\", index=False)\n",
    "\n",
    "# print(f\"Combined CSV file saved to {output_file}\")"
   ]
  },
  {
   "cell_type": "code",
   "execution_count": 24,
   "metadata": {},
   "outputs": [
    {
     "data": {
      "text/plain": [
       "190774"
      ]
     },
     "execution_count": 24,
     "metadata": {},
     "output_type": "execute_result"
    }
   ],
   "source": [
    "len(company_phone_number_df)"
   ]
  },
  {
   "cell_type": "code",
   "execution_count": 25,
   "metadata": {},
   "outputs": [
    {
     "name": "stdout",
     "output_type": "stream",
     "text": [
      "  Company_Phone_Number  Count\n",
      "0           8885315815     99\n",
      "1           8666599372     65\n",
      "2           8506888984     64\n",
      "3           3109286478     64\n",
      "4           8885315941     58\n"
     ]
    }
   ],
   "source": [
    "# Count the occurrences of each phone number\n",
    "phone_number_counts = combined_df[\"Company_Phone_Number\"].value_counts().reset_index()\n",
    "phone_number_counts.columns = [\"Company_Phone_Number\", \"Count\"]\n",
    "\n",
    "# Display the first few rows of the counts\n",
    "print(phone_number_counts.head())"
   ]
  },
  {
   "cell_type": "code",
   "execution_count": 26,
   "metadata": {},
   "outputs": [
    {
     "data": {
      "text/plain": [
       "146590"
      ]
     },
     "execution_count": 26,
     "metadata": {},
     "output_type": "execute_result"
    }
   ],
   "source": [
    "len(phone_number_counts)"
   ]
  },
  {
   "cell_type": "code",
   "execution_count": 27,
   "metadata": {},
   "outputs": [],
   "source": [
    "# Save the counts data frame to a new CSV file\n",
    "phone_number_counts.to_csv(\"phone_number_counts.csv\", index=False)"
   ]
  },
  {
   "cell_type": "code",
   "execution_count": null,
   "metadata": {},
   "outputs": [],
   "source": []
  }
 ],
 "metadata": {
  "kernelspec": {
   "display_name": "venv",
   "language": "python",
   "name": "python3"
  },
  "language_info": {
   "codemirror_mode": {
    "name": "ipython",
    "version": 3
   },
   "file_extension": ".py",
   "mimetype": "text/x-python",
   "name": "python",
   "nbconvert_exporter": "python",
   "pygments_lexer": "ipython3",
   "version": "3.9.6"
  }
 },
 "nbformat": 4,
 "nbformat_minor": 2
}
