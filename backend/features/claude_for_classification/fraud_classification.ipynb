{
 "cells": [
  {
   "cell_type": "code",
   "execution_count": null,
   "metadata": {},
   "outputs": [],
   "source": [
    "# !pip install anthropic\n",
    "# !pip install voyageai\n",
    "# !pip install pandas\n",
    "# !pip install numpy\n",
    "# !pip install matplotlib\n",
    "# %pip install -U scikit-learn"
   ]
  },
  {
   "cell_type": "markdown",
   "metadata": {},
   "source": [
    "### API"
   ]
  },
  {
   "cell_type": "markdown",
   "metadata": {},
   "source": [
    "# Get the VOYAGE_API_KEY\n"
   ]
  },
  {
   "cell_type": "code",
   "execution_count": 1,
   "metadata": {},
   "outputs": [
    {
     "name": "stdout",
     "output_type": "stream",
     "text": [
      "env: VOYAGE_API_KEY=YOUR_API_KEY\n"
     ]
    }
   ],
   "source": [
    "%env VOYAGE_API_KEY=YOUR_API_KEY"
   ]
  },
  {
   "cell_type": "code",
   "execution_count": null,
   "metadata": {},
   "outputs": [],
   "source": [
    "%env ANTHROPIC_API_KEY="
   ]
  },
  {
   "cell_type": "code",
   "execution_count": null,
   "metadata": {},
   "outputs": [],
   "source": [
    "# Setup our environment\n",
    "import anthropic\n",
    "import os\n",
    "\n",
    "client = anthropic.Anthropic(\n",
    "    # This is the default and can be omitted\n",
    "    api_key=os.environ.get(\"ANTHROPIC_API_KEY\"),\n",
    ")"
   ]
  },
  {
   "cell_type": "markdown",
   "metadata": {},
   "source": [
    "### Labeled Data"
   ]
  },
  {
   "cell_type": "markdown",
   "metadata": {},
   "source": [
    "# Todo : Create /test.tsv /train.tsv files"
   ]
  },
  {
   "cell_type": "code",
   "execution_count": null,
   "metadata": {},
   "outputs": [
    {
     "name": "stdout",
     "output_type": "stream",
     "text": [
      "{'text': 'I just got my auto policy renewal bill and the cost seems to be more than what I usually pay. Could you explain the reason for the increase?', 'label': 'Billing Inquiries'} 68\n",
      "68 68\n"
     ]
    }
   ],
   "source": [
    "import pandas as pd\n",
    "\n",
    "data = {\n",
    "    'train': [],\n",
    "    'test': [],\n",
    "    'test_2': []\n",
    "}\n",
    "\n",
    "# Helper function to convert a DataFrame to a list of dictionaries\n",
    "def dataframe_to_dict_list(df):\n",
    "    return df.apply(lambda x: {'text': x['text'], 'label': x['label']}, axis=1).tolist()\n",
    "\n",
    "\n",
    "# Read the TSV file into a DataFrame\n",
    "test_df = pd.read_csv(\"./data/test.tsv\", sep='\\t')\n",
    "data['test'] = dataframe_to_dict_list(test_df)\n",
    "\n",
    "train_df = pd.read_csv(\"./data/train.tsv\", sep='\\t')\n",
    "data['train'] = dataframe_to_dict_list(train_df)\n",
    "\n",
    "\n",
    "# Understand the labels in the dataset\n",
    "labels = list(set(train_df['label'].unique()))\n",
    "\n",
    "# Print the first training example and the number of training examples\n",
    "print(data['train'][0], len(data['train']))\n",
    "\n",
    "# Create the test set\n",
    "X_test = [example['text'] for example in data['test']]\n",
    "y_test = [example['label'] for example in data['test']]\n",
    "\n",
    "# Print the length of the test set\n",
    "print(len(X_test), len(y_test))"
   ]
  },
  {
   "cell_type": "markdown",
   "metadata": {},
   "source": [
    "### Evaluating each classification model\n"
   ]
  },
  {
   "cell_type": "code",
   "execution_count": null,
   "metadata": {},
   "outputs": [],
   "source": [
    "import matplotlib.pyplot as plt\n",
    "from sklearn.metrics import classification_report, confusion_matrix\n",
    "import concurrent.futures\n",
    "import numpy as np\n",
    "\n",
    "MAXIMUM_CONCURRENT_REQUESTS = 5\n",
    "\n",
    "def plot_confusion_matrix(cm, labels):\n",
    "    # Visualize the confusion matrix\n",
    "    fig, ax = plt.subplots(figsize=(8, 8))\n",
    "    im = ax.imshow(cm, cmap='Blues')\n",
    "\n",
    "    # Add colorbar\n",
    "    cbar = ax.figure.colorbar(im, ax=ax)\n",
    "\n",
    "    # Set tick labels and positions\n",
    "    ax.set_xticks(np.arange(len(labels)))\n",
    "    ax.set_yticks(np.arange(len(labels)))\n",
    "    ax.set_xticklabels(labels, rotation=45, ha='right')\n",
    "    ax.set_yticklabels(labels)\n",
    "\n",
    "    # Add labels to each cell\n",
    "    thresh = cm.max() / 2.\n",
    "    for i in range(len(labels)):\n",
    "        for j in range(len(labels)):\n",
    "            ax.text(j, i, cm[i, j],\n",
    "                    ha='center', va='center',\n",
    "                    color='white' if cm[i, j] > thresh else 'black')\n",
    "\n",
    "    # Set labels and title\n",
    "    plt.xlabel('Predicted Labels')\n",
    "    plt.ylabel('True Labels')\n",
    "    plt.title('Confusion Matrix')\n",
    "    plt.tight_layout()\n",
    "    plt.show()\n",
    "\n",
    "def evaluate(X, y, classifier, batch_size=MAXIMUM_CONCURRENT_REQUESTS):\n",
    "    # Initialize lists to store the predicted and true labels\n",
    "    y_true = []\n",
    "    y_pred = []\n",
    "\n",
    "    # Create a ThreadPoolExecutor\n",
    "    with concurrent.futures.ThreadPoolExecutor() as executor:\n",
    "        # Submit the classification tasks to the executor in batches\n",
    "        futures = []\n",
    "        for i in range(0, len(X), batch_size):\n",
    "            batch_X = X[i:i+batch_size]\n",
    "            batch_futures = [executor.submit(classifier, x) for x in batch_X]\n",
    "            futures.extend(batch_futures)\n",
    "\n",
    "        # Retrieve the results in the original order\n",
    "        for i, future in enumerate(futures):\n",
    "            predicted_label = future.result()\n",
    "            y_pred.append(predicted_label)\n",
    "            y_true.append(y[i])\n",
    "\n",
    "    # Normalize y_true and y_pred\n",
    "    y_true = [label.strip() for label in y_true]\n",
    "    y_pred = [label.strip() for label in y_pred]\n",
    "\n",
    "    # Calculate the classification metrics\n",
    "    report = classification_report(y_true, y_pred, zero_division=1)\n",
    "    cm = confusion_matrix(y_true, y_pred)\n",
    "    print(report)\n",
    "    plot_confusion_matrix(cm, labels)"
   ]
  },
  {
   "cell_type": "markdown",
   "metadata": {},
   "source": [
    "### Random Classifier"
   ]
  },
  {
   "cell_type": "code",
   "execution_count": null,
   "metadata": {},
   "outputs": [],
   "source": [
    "import random\n",
    "\n",
    "def random_classifier(text):\n",
    "    return random.choice(labels)"
   ]
  },
  {
   "cell_type": "code",
   "execution_count": null,
   "metadata": {},
   "outputs": [
    {
     "name": "stdout",
     "output_type": "stream",
     "text": [
      "Evaluating the random classification method on the test set...\n",
      "                       precision    recall  f1-score   support\n",
      "\n",
      "   Account Management       0.00      0.00      0.00         6\n",
      "     Billing Disputes       0.00      0.00      0.00         9\n",
      "    Billing Inquiries       0.14      0.17      0.15         6\n",
      "    Claims Assistance       0.20      0.33      0.25         6\n",
      "      Claims Disputes       0.00      0.00      0.00         9\n",
      "Coverage Explanations       0.11      0.11      0.11         9\n",
      "    General Inquiries       0.25      0.14      0.18         7\n",
      "Policy Administration       0.29      0.33      0.31         6\n",
      "   Policy Comparisons       0.00      0.00      0.00         5\n",
      " Quotes and Proposals       0.00      0.00      0.00         5\n",
      "\n",
      "             accuracy                           0.10        68\n",
      "            macro avg       0.10      0.11      0.10        68\n",
      "         weighted avg       0.10      0.10      0.10        68\n",
      "\n"
     ]
    },
    {
     "data": {
      "image/png": "[encoded data removed]",
      "text/plain": [
       "<Figure size 800x800 with 2 Axes>"
      ]
     },
     "metadata": {},
     "output_type": "display_data"
    }
   ],
   "source": [
    "print(\"Evaluating the random classification method on the test set...\")\n",
    "evaluate(X_test, y_test, random_classifier)"
   ]
  },
  {
   "cell_type": "markdown",
   "metadata": {},
   "source": [
    "### Simple Classification Test"
   ]
  },
  {
   "cell_type": "markdown",
   "metadata": {},
   "source": [
    "# Todo : Update Label, Content "
   ]
  },
  {
   "cell_type": "code",
   "execution_count": null,
   "metadata": {},
   "outputs": [],
   "source": [
    "import textwrap\n",
    "categories = textwrap.dedent(\"\"\"<category> \n",
    "    <label>Billing Inquiries</label>\n",
    "    <content> Questions about invoices, charges, fees, and premiums Requests for clarification on billing statements Inquiries about payment methods and due dates \n",
    "    </content> \n",
    "</category> \n",
    "<category> \n",
    "    <label>Policy Administration</label>\n",
    "    <content> Requests for policy changes, updates, or cancellations Questions about policy renewals and reinstatements Inquiries about adding or removing coverage options \n",
    "    </content> \n",
    "</category> \n",
    "<category> \n",
    "    <label>Claims Assistance</label> \n",
    "    <content> Questions about the claims process and filing procedures Requests for help with submitting claim documentation Inquiries about claim status and payout timelines \n",
    "    </content> \n",
    "</category> \n",
    "<category> \n",
    "    <label>Coverage Explanations</label> \n",
    "    <content> Questions about what is covered under specific policy types Requests for clarification on coverage limits and exclusions Inquiries about deductibles and out-of-pocket expenses \n",
    "    </content> \n",
    "</category> \n",
    "<category> \n",
    "    <label>Quotes and Proposals</label> \n",
    "    <content> Requests for new policy quotes and price comparisons Questions about available discounts and bundling options Inquiries about switching from another insurer \n",
    "    </content> \n",
    "</category> \n",
    "<category> \n",
    "    <label>Account Management</label> \n",
    "    <content> Requests for login credentials or password resets Questions about online account features and functionality Inquiries about updating contact or personal information \n",
    "    </content> \n",
    "</category> \n",
    "<category> \n",
    "    <label>Billing Disputes</label> \n",
    "    <content> Complaints about unexpected or incorrect charges Requests for refunds or premium adjustments Inquiries about late fees or collection notices \n",
    "    </content> \n",
    "</category> \n",
    "<category> \n",
    "    <label>Claims Disputes</label> \n",
    "    <content> Complaints about denied or underpaid claims Requests for reconsideration of claim decisions Inquiries about appealing a claim outcome \n",
    "    </content> \n",
    "</category> \n",
    "<category> \n",
    "    <label>Policy Comparisons</label> \n",
    "    <content> Questions about the differences between policy options Requests for help deciding between coverage levels Inquiries about how policies compare to competitors' offerings \n",
    "    </content> \n",
    "</category> \n",
    "<category> \n",
    "    <label>General Inquiries</label> \n",
    "    <content> Questions about company contact information or hours of operation Requests for general information about products or services Inquiries that don't fit neatly into other categories \n",
    "    </content> \n",
    "</category>\"\"\")"
   ]
  },
  {
   "cell_type": "markdown",
   "metadata": {},
   "source": [
    "### Prompt Template"
   ]
  },
  {
   "cell_type": "markdown",
   "metadata": {},
   "source": [
    "# Todo : Improve Prompt"
   ]
  },
  {
   "cell_type": "code",
   "execution_count": null,
   "metadata": {},
   "outputs": [],
   "source": [
    "def simple_classify(X):\n",
    "    prompt = textwrap.dedent(\"\"\"\n",
    "    You will classify a customer support ticket into one of the following categories:\n",
    "    <categories>\n",
    "        {{categories}}\n",
    "    </categories>\n",
    "\n",
    "    Here is the customer support ticket:\n",
    "    <ticket>\n",
    "        {{ticket}}\n",
    "    </ticket>\n",
    "\n",
    "    Respond with just the label of the category between category tags.\n",
    "    \"\"\").replace(\"{{categories}}\", categories).replace(\"{{ticket}}\", X)\n",
    "    response = client.messages.create( \n",
    "        messages=[{\"role\":\"user\", \"content\": prompt}, {\"role\":\"assistant\", \"content\": \"<category>\"}],\n",
    "        stop_sequences=[\"</category>\"], \n",
    "        max_tokens=4096, \n",
    "        temperature=0.0,\n",
    "        model=\"claude-3-haiku-20240307\"),\n",
    "    \n",
    "    # Extract the result from the response\n",
    "    result = response[0].content[0].text.strip()\n",
    "    return result"
   ]
  },
  {
   "cell_type": "code",
   "execution_count": null,
   "metadata": {},
   "outputs": [],
   "source": [
    "print(\"Evaluating the simple classification method on the test set...\")\n",
    "evaluate(X_test, y_test, simple_classify)"
   ]
  },
  {
   "cell_type": "markdown",
   "metadata": {},
   "source": [
    "### Simple VectorDB class"
   ]
  },
  {
   "cell_type": "code",
   "execution_count": null,
   "metadata": {},
   "outputs": [],
   "source": [
    "import os\n",
    "import numpy as np\n",
    "import voyageai\n",
    "import pickle\n",
    "import json\n",
    "\n",
    "class VectorDB:\n",
    "    def __init__(self, api_key=None):\n",
    "        if api_key is None:\n",
    "            api_key = os.getenv(\"VOYAGE_API_KEY\")\n",
    "        self.client = voyageai.Client(api_key=api_key)\n",
    "        self.embeddings = []\n",
    "        self.metadata = []\n",
    "        self.query_cache = {}\n",
    "        self.db_path = \"./data/vector_db.pkl\"\n",
    "\n",
    "    def load_data(self, data):\n",
    "        # Check if the vector database is already loaded\n",
    "        if self.embeddings and self.metadata:\n",
    "            print(\"Vector database is already loaded. Skipping data loading.\")\n",
    "            return\n",
    "        # Check if vector_db.pkl exists\n",
    "        if os.path.exists(self.db_path):\n",
    "            print(\"Loading vector database from disk.\")\n",
    "            self.load_db()\n",
    "            return\n",
    "\n",
    "        texts = [item[\"text\"] for item in data]\n",
    "\n",
    "        # Embed more than 128 documents with a for loop\n",
    "        batch_size = 128\n",
    "        result = [\n",
    "            self.client.embed(\n",
    "                texts[i : i + batch_size],\n",
    "                model=\"voyage-2\"\n",
    "            ).embeddings\n",
    "            for i in range(0, len(texts), batch_size)\n",
    "        ]\n",
    "\n",
    "        # Flatten the embeddings\n",
    "        self.embeddings = [embedding for batch in result for embedding in batch]\n",
    "        self.metadata = [item for item in data]\n",
    "        self.save_db()\n",
    "        # Save the vector database to disk\n",
    "        print(\"Vector database loaded and saved.\")\n",
    "\n",
    "    def search(self, query, k=5, similarity_threshold=0.75):\n",
    "        query_embedding = None\n",
    "        if query in self.query_cache:\n",
    "            query_embedding = self.query_cache[query]\n",
    "        else:\n",
    "            query_embedding = self.client.embed([query], model=\"voyage-2\").embeddings[0]\n",
    "            self.query_cache[query] = query_embedding\n",
    "\n",
    "        if not self.embeddings:\n",
    "            raise ValueError(\"No data loaded in the vector database.\")\n",
    "\n",
    "        similarities = np.dot(self.embeddings, query_embedding)\n",
    "        top_indices = np.argsort(similarities)[::-1]\n",
    "        top_examples = []\n",
    "        \n",
    "        for idx in top_indices:\n",
    "            if similarities[idx] >= similarity_threshold:\n",
    "                example = {\n",
    "                    \"metadata\": self.metadata[idx],\n",
    "                    \"similarity\": similarities[idx],\n",
    "                }\n",
    "                top_examples.append(example)\n",
    "                \n",
    "                if len(top_examples) >= k:\n",
    "                    break\n",
    "        self.save_db()\n",
    "        return top_examples\n",
    "    \n",
    "    def save_db(self):\n",
    "        data = {\n",
    "            \"embeddings\": self.embeddings,\n",
    "            \"metadata\": self.metadata,\n",
    "            \"query_cache\": json.dumps(self.query_cache),\n",
    "        }\n",
    "        with open(self.db_path, \"wb\") as file:\n",
    "            pickle.dump(data, file)\n",
    "\n",
    "    def load_db(self):\n",
    "        if not os.path.exists(self.db_path):\n",
    "            raise ValueError(\"Vector database file not found. Use load_data to create a new database.\")\n",
    "        \n",
    "        with open(self.db_path, \"rb\") as file:\n",
    "            data = pickle.load(file)\n",
    "        \n",
    "        self.embeddings = data[\"embeddings\"]\n",
    "        self.metadata = data[\"metadata\"]\n",
    "        self.query_cache = json.loads(data[\"query_cache\"])"
   ]
  },
  {
   "cell_type": "code",
   "execution_count": null,
   "metadata": {},
   "outputs": [],
   "source": [
    "vectordb = VectorDB()\n",
    "vectordb.load_data(data[\"train\"])"
   ]
  },
  {
   "cell_type": "markdown",
   "metadata": {},
   "source": [
    "### RAG Classification Prompt"
   ]
  },
  {
   "cell_type": "code",
   "execution_count": null,
   "metadata": {},
   "outputs": [],
   "source": [
    "def rag_classify(X):\n",
    "    rag = vectordb.search(X,5)\n",
    "    rag_string = \"\"\n",
    "    for example in rag:\n",
    "        rag_string += textwrap.dedent(f\"\"\"\n",
    "        <example>\n",
    "            <query>\n",
    "                \"{example[\"metadata\"][\"text\"]}\"\n",
    "            </query>\n",
    "            <label>\n",
    "                {example[\"metadata\"][\"label\"]}\n",
    "            </label>\n",
    "        </example>\n",
    "        \"\"\")\n",
    "    prompt = textwrap.dedent(\"\"\"\n",
    "    You will classify a customer support ticket into one of the following categories:\n",
    "    <categories>\n",
    "        {{categories}}\n",
    "    </categories>\n",
    "\n",
    "    Here is the customer support ticket:\n",
    "    <ticket>\n",
    "        {{ticket}}\n",
    "    </ticket>\n",
    "\n",
    "    Use the following examples to help you classify the query:\n",
    "    <examples>\n",
    "        {{examples}}\n",
    "    </examples>\n",
    "\n",
    "    Respond with just the label of the category between category tags.\n",
    "    \"\"\").replace(\"{{categories}}\", categories).replace(\"{{ticket}}\", X).replace(\"{{examples}}\", rag_string)\n",
    "    response = client.messages.create( \n",
    "        messages=[{\"role\":\"user\", \"content\": prompt}, {\"role\":\"assistant\", \"content\": \"<category>\"}],\n",
    "        stop_sequences=[\"</category>\"], \n",
    "        max_tokens=4096, \n",
    "        temperature=0.0,\n",
    "        model=\"claude-3-haiku-20240307\"),\n",
    "    \n",
    "    # Extract the result from the response\n",
    "    result = response[0].content[0].text.strip()\n",
    "    return result\n"
   ]
  },
  {
   "cell_type": "code",
   "execution_count": null,
   "metadata": {},
   "outputs": [],
   "source": [
    "print(\"Evaluating the RAG method on the test set...\")\n",
    "evaluate(X_test, y_test, rag_classify)"
   ]
  },
  {
   "cell_type": "markdown",
   "metadata": {},
   "source": [
    "### RAG Classification with Chain of Thought Prompt\n"
   ]
  },
  {
   "cell_type": "markdown",
   "metadata": {},
   "source": [
    "### Todo : Update the prompt"
   ]
  },
  {
   "cell_type": "code",
   "execution_count": null,
   "metadata": {},
   "outputs": [],
   "source": [
    "def rag_chain_of_thought_classify(X):\n",
    "    rag = vectordb.search(X,5)\n",
    "    rag_string = \"\"\n",
    "    for example in rag:\n",
    "        rag_string += textwrap.dedent(f\"\"\"\n",
    "        <example>\n",
    "            <query>\n",
    "                \"{example[\"metadata\"][\"text\"]}\"\n",
    "            </query>\n",
    "            <label>\n",
    "                {example[\"metadata\"][\"label\"]}\n",
    "            </label>\n",
    "        </example>\n",
    "        \"\"\")\n",
    "    prompt = textwrap.dedent(\"\"\"\n",
    "    You will classify a customer support ticket into one of the following categories:\n",
    "    <categories>\n",
    "        {{categories}}\n",
    "    </categories>\n",
    "\n",
    "    Here is the customer support ticket:\n",
    "    <ticket>\n",
    "        {{ticket}}\n",
    "    </ticket>\n",
    "\n",
    "    Use the following examples to help you classify the query:\n",
    "    <examples>\n",
    "        {{examples}}\n",
    "    </examples>\n",
    "\n",
    "    First you will think step-by-step about the problem in scratchpad tags.\n",
    "    You should consider all the information provided and create a concrete argument for your classification.\n",
    "    \n",
    "    Respond using this format:\n",
    "    <response>\n",
    "        <scratchpad>Your thoughts and analysis go here</scratchpad>\n",
    "        <category>The category label you chose goes here</category>\n",
    "    </response>\n",
    "    \"\"\").replace(\"{{categories}}\", categories).replace(\"{{ticket}}\", X).replace(\"{{examples}}\", rag_string)\n",
    "    response = client.messages.create( \n",
    "        messages=[{\"role\":\"user\", \"content\": prompt}, {\"role\":\"assistant\", \"content\": \"<response><scratchpad>\"}],\n",
    "        stop_sequences=[\"</category>\"], \n",
    "        max_tokens=4096, \n",
    "        temperature=0.0,\n",
    "        model=\"claude-3-haiku-20240307\"),\n",
    "    \n",
    "    # Extract the result from the response\n",
    "    result = response[0].content[0].text.split(\"<category>\")[1].strip()\n",
    "    return result"
   ]
  },
  {
   "cell_type": "code",
   "execution_count": null,
   "metadata": {},
   "outputs": [],
   "source": [
    "print(\"Evaluating the RAG method with Chain of Thought on the test set...\")\n",
    "evaluate(X_test, y_test, rag_chain_of_thought_classify)"
   ]
  },
  {
   "cell_type": "markdown",
   "metadata": {},
   "source": [
    "### Evaluation"
   ]
  },
  {
   "cell_type": "code",
   "execution_count": null,
   "metadata": {},
   "outputs": [],
   "source": [
    "import json\n",
    "import pandas as pd\n",
    "\n",
    "promptfoo_results = pd.read_csv(\"./data/results.csv\")\n",
    "examples_columns = promptfoo_results.columns[2:]\n",
    "\n",
    "number_of_providers = 5\n",
    "number_of_prompts = 3\n",
    "\n",
    "prompts = [\"Simple\", \"RAG\", \"RAG w/ CoT\"]\n",
    "\n",
    "columns = [\"label\", \"text\"] + [\n",
    "    json.loads(examples_columns[prompt * number_of_providers + provider])[\"provider\"]\n",
    "    + \" Prompt: \"\n",
    "    + str(prompts[prompt])\n",
    "    for prompt in range(number_of_prompts)\n",
    "    for provider in range(number_of_providers)\n",
    "]\n",
    "\n",
    "promptfoo_results.columns = columns\n",
    "\n",
    "result = (\n",
    "    promptfoo_results.iloc[:, 2:]\n",
    "    .astype(str)\n",
    "    .apply(lambda x: x.str.count(\"PASS\"))\n",
    "    .sum()\n",
    "    / len(promptfoo_results)\n",
    "    * 100\n",
    ").sort_values(ascending=False)\n",
    "\n",
    "print(result)"
   ]
  }
 ],
 "metadata": {
  "kernelspec": {
   "display_name": "venv",
   "language": "python",
   "name": "python3"
  },
  "language_info": {
   "codemirror_mode": {
    "name": "ipython",
    "version": 3
   },
   "file_extension": ".py",
   "mimetype": "text/x-python",
   "name": "python",
   "nbconvert_exporter": "python",
   "pygments_lexer": "ipython3",
   "version": "3.10.12"
  }
 },
 "nbformat": 4,
 "nbformat_minor": 2
}
